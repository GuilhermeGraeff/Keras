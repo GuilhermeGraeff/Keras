{
 "cells": [
  {
   "cell_type": "markdown",
   "id": "b33f30c9-6bf0-421a-a869-d3b5969b197e",
   "metadata": {},
   "source": [
    "# Preprocessing the data :)"
   ]
  },
  {
   "cell_type": "code",
   "execution_count": 19,
   "id": "997db23b-2550-4e9a-b0f4-64153fb8d26a",
   "metadata": {
    "tags": []
   },
   "outputs": [],
   "source": [
    "import numpy as np\n",
    "from random import randint\n",
    "from sklearn.utils import shuffle\n",
    "from sklearn.preprocessing import MinMaxScaler"
   ]
  },
  {
   "cell_type": "code",
   "execution_count": 7,
   "id": "fe2caf20-4cf2-43b7-9a4a-b5b91c5bcf6a",
   "metadata": {
    "tags": []
   },
   "outputs": [],
   "source": [
    "train_samples = []\n",
    "train_labels  = []"
   ]
  },
  {
   "cell_type": "code",
   "execution_count": 8,
   "id": "123757e2-e536-4ab0-950a-4abe1b9e3a10",
   "metadata": {
    "tags": []
   },
   "outputs": [],
   "source": [
    "for i in range(50):\n",
    "    random_younger = randint(13,64)\n",
    "    train_samples.append(random_younger)\n",
    "    train_labels.append(1)\n",
    "    \n",
    "    random_older = randint(65,100)\n",
    "    train_samples.append(random_older)\n",
    "    train_labels.append(0)\n",
    "    \n",
    "for i in range(1000):\n",
    "    random_younger = randint(13,64)\n",
    "    train_samples.append(random_younger)\n",
    "    train_labels.append(0)\n",
    "    \n",
    "    random_older = randint(65,100)\n",
    "    train_samples.append(random_older)\n",
    "    train_labels.append(1)"
   ]
  },
  {
   "cell_type": "code",
   "execution_count": 14,
   "id": "92c3533a-3876-4975-bf48-067e7c055e15",
   "metadata": {
    "tags": []
   },
   "outputs": [],
   "source": [
    "train_samples = np.array(train_samples)\n",
    "train_labels = np.array(train_labels)\n",
    "\n",
    "train_labels, train_samples = shuffle(train_labels, train_samples)"
   ]
  },
  {
   "cell_type": "code",
   "execution_count": 15,
   "id": "6f0bfb26-385a-473d-9834-bd890ca2484f",
   "metadata": {
    "tags": []
   },
   "outputs": [],
   "source": [
    "scaler = MinMaxScaler(feature_range=(0,1))\n",
    "scaled_train_samples = scaler.fit_transform(train_samples.reshape(-1,1))"
   ]
  },
  {
   "cell_type": "code",
   "execution_count": 18,
   "id": "e0aa9734-5822-4d3c-8ac0-3694b056fbf6",
   "metadata": {
    "tags": []
   },
   "outputs": [
    {
     "data": {
      "text/plain": [
       "array([[0.17241379],\n",
       "       [0.29885057],\n",
       "       [0.66666667],\n",
       "       ...,\n",
       "       [0.77011494],\n",
       "       [0.74712644],\n",
       "       [0.33333333]])"
      ]
     },
     "execution_count": 18,
     "metadata": {},
     "output_type": "execute_result"
    }
   ],
   "source": [
    "scaled_train_samples"
   ]
  },
  {
   "cell_type": "markdown",
   "id": "94448599-10a2-4125-bf04-a7b33c2657c0",
   "metadata": {},
   "source": [
    "# Simple tf.keras Sequencial Model"
   ]
  },
  {
   "cell_type": "code",
   "execution_count": 42,
   "id": "1a4d1ebf-5a55-4efa-8fab-2c86e151565d",
   "metadata": {
    "tags": []
   },
   "outputs": [],
   "source": [
    "import tensorflow as tf\n",
    "from tensorflow import keras\n",
    "from tensorflow.keras.models import Sequential\n",
    "from tensorflow.keras.layers import Activation, Dense\n",
    "from tensorflow.keras.optimizers import Adam\n",
    "from tensorflow.keras.metrics import categorical_crossentropy"
   ]
  },
  {
   "cell_type": "code",
   "execution_count": 46,
   "id": "19350af6-d53f-4a14-a8fd-0368d3298da4",
   "metadata": {
    "tags": []
   },
   "outputs": [
    {
     "name": "stdout",
     "output_type": "stream",
     "text": [
      "Num GPUs Available:  0\n",
      "Num GPUs Available:  0\n"
     ]
    }
   ],
   "source": [
    "physical_devices = tf.config.experimental.list_physical_devices('GPU')\n",
    "print(\"Num GPUs Available: \", len(physical_devices))\n",
    "# tf.config.experimental.set_memory_growth(physical_devices[0], True)\n",
    "print(\"Num GPUs Available: \", len(tf.config.list_physical_devices('GPU')))"
   ]
  },
  {
   "cell_type": "code",
   "execution_count": 28,
   "id": "ff24619e-3c74-4227-9a49-20416151fa37",
   "metadata": {
    "tags": []
   },
   "outputs": [],
   "source": [
    "model = Sequential([\n",
    "    Dense(units=16, input_shape=(1,), activation='relu'),\n",
    "    Dense(units=32, activation='relu'),\n",
    "    Dense(units=2, activation='softmax')\n",
    "])"
   ]
  },
  {
   "cell_type": "code",
   "execution_count": 30,
   "id": "39b1b715-5bbe-433a-b6dd-de2afb115d57",
   "metadata": {
    "tags": []
   },
   "outputs": [
    {
     "name": "stdout",
     "output_type": "stream",
     "text": [
      "Model: \"sequential\"\n",
      "_________________________________________________________________\n",
      " Layer (type)                Output Shape              Param #   \n",
      "=================================================================\n",
      " dense (Dense)               (None, 16)                32        \n",
      "                                                                 \n",
      " dense_1 (Dense)             (None, 32)                544       \n",
      "                                                                 \n",
      " dense_2 (Dense)             (None, 2)                 66        \n",
      "                                                                 \n",
      "=================================================================\n",
      "Total params: 642 (2.51 KB)\n",
      "Trainable params: 642 (2.51 KB)\n",
      "Non-trainable params: 0 (0.00 Byte)\n",
      "_________________________________________________________________\n"
     ]
    }
   ],
   "source": [
    "model.summary()"
   ]
  },
  {
   "cell_type": "code",
   "execution_count": 47,
   "id": "54007c34-8ade-46e6-a580-3ec6a4027ab0",
   "metadata": {
    "tags": []
   },
   "outputs": [],
   "source": [
    "model.compile(optimizer=Adam(learning_rate=0.0001), loss='sparse_categorical_crossentropy', metrics=['accuracy'])"
   ]
  },
  {
   "cell_type": "code",
   "execution_count": 48,
   "id": "a30ef6fc-ce8a-4ac1-a5a3-5126ed5fe8c9",
   "metadata": {
    "tags": []
   },
   "outputs": [
    {
     "name": "stdout",
     "output_type": "stream",
     "text": [
      "Epoch 1/30\n",
      "210/210 - 1s - loss: 0.6487 - accuracy: 0.5538 - 1s/epoch - 5ms/step\n",
      "Epoch 2/30\n",
      "210/210 - 0s - loss: 0.6256 - accuracy: 0.6462 - 177ms/epoch - 845us/step\n",
      "Epoch 3/30\n",
      "210/210 - 0s - loss: 0.5964 - accuracy: 0.7133 - 133ms/epoch - 633us/step\n",
      "Epoch 4/30\n",
      "210/210 - 0s - loss: 0.5647 - accuracy: 0.7671 - 129ms/epoch - 616us/step\n",
      "Epoch 5/30\n",
      "210/210 - 0s - loss: 0.5325 - accuracy: 0.8014 - 124ms/epoch - 593us/step\n",
      "Epoch 6/30\n",
      "210/210 - 0s - loss: 0.5005 - accuracy: 0.8295 - 127ms/epoch - 606us/step\n",
      "Epoch 7/30\n",
      "210/210 - 0s - loss: 0.4694 - accuracy: 0.8457 - 128ms/epoch - 609us/step\n",
      "Epoch 8/30\n",
      "210/210 - 0s - loss: 0.4403 - accuracy: 0.8648 - 126ms/epoch - 601us/step\n",
      "Epoch 9/30\n",
      "210/210 - 0s - loss: 0.4138 - accuracy: 0.8790 - 123ms/epoch - 586us/step\n",
      "Epoch 10/30\n",
      "210/210 - 0s - loss: 0.3901 - accuracy: 0.8933 - 127ms/epoch - 607us/step\n",
      "Epoch 11/30\n",
      "210/210 - 0s - loss: 0.3693 - accuracy: 0.9014 - 127ms/epoch - 603us/step\n",
      "Epoch 12/30\n",
      "210/210 - 0s - loss: 0.3515 - accuracy: 0.9024 - 127ms/epoch - 605us/step\n",
      "Epoch 13/30\n",
      "210/210 - 0s - loss: 0.3365 - accuracy: 0.9152 - 127ms/epoch - 606us/step\n",
      "Epoch 14/30\n",
      "210/210 - 0s - loss: 0.3243 - accuracy: 0.9162 - 126ms/epoch - 602us/step\n",
      "Epoch 15/30\n",
      "210/210 - 0s - loss: 0.3138 - accuracy: 0.9190 - 128ms/epoch - 609us/step\n",
      "Epoch 16/30\n",
      "210/210 - 0s - loss: 0.3052 - accuracy: 0.9238 - 127ms/epoch - 606us/step\n",
      "Epoch 17/30\n",
      "210/210 - 0s - loss: 0.2978 - accuracy: 0.9257 - 125ms/epoch - 597us/step\n",
      "Epoch 18/30\n",
      "210/210 - 0s - loss: 0.2919 - accuracy: 0.9262 - 128ms/epoch - 610us/step\n",
      "Epoch 19/30\n",
      "210/210 - 0s - loss: 0.2869 - accuracy: 0.9262 - 129ms/epoch - 614us/step\n",
      "Epoch 20/30\n",
      "210/210 - 0s - loss: 0.2826 - accuracy: 0.9295 - 125ms/epoch - 597us/step\n",
      "Epoch 21/30\n",
      "210/210 - 0s - loss: 0.2792 - accuracy: 0.9286 - 128ms/epoch - 608us/step\n",
      "Epoch 22/30\n",
      "210/210 - 0s - loss: 0.2760 - accuracy: 0.9305 - 125ms/epoch - 595us/step\n",
      "Epoch 23/30\n",
      "210/210 - 0s - loss: 0.2734 - accuracy: 0.9324 - 194ms/epoch - 923us/step\n",
      "Epoch 24/30\n",
      "210/210 - 0s - loss: 0.2711 - accuracy: 0.9314 - 164ms/epoch - 783us/step\n",
      "Epoch 25/30\n",
      "210/210 - 0s - loss: 0.2690 - accuracy: 0.9319 - 139ms/epoch - 661us/step\n",
      "Epoch 26/30\n",
      "210/210 - 0s - loss: 0.2674 - accuracy: 0.9338 - 139ms/epoch - 660us/step\n",
      "Epoch 27/30\n",
      "210/210 - 0s - loss: 0.2658 - accuracy: 0.9333 - 133ms/epoch - 631us/step\n",
      "Epoch 28/30\n",
      "210/210 - 0s - loss: 0.2642 - accuracy: 0.9352 - 136ms/epoch - 649us/step\n",
      "Epoch 29/30\n",
      "210/210 - 0s - loss: 0.2626 - accuracy: 0.9390 - 137ms/epoch - 651us/step\n",
      "Epoch 30/30\n",
      "210/210 - 0s - loss: 0.2614 - accuracy: 0.9319 - 136ms/epoch - 646us/step\n"
     ]
    },
    {
     "data": {
      "text/plain": [
       "<keras.src.callbacks.History at 0x7f9bf8611450>"
      ]
     },
     "execution_count": 48,
     "metadata": {},
     "output_type": "execute_result"
    }
   ],
   "source": [
    "model.fit(x=scaled_train_samples, y=train_labels, batch_size=10, epochs=30, shuffle=True, verbose=2)"
   ]
  },
  {
   "cell_type": "code",
   "execution_count": 51,
   "id": "bcc69646-7aff-4dc4-a668-0a0d8b1a8979",
   "metadata": {
    "tags": []
   },
   "outputs": [
    {
     "name": "stdout",
     "output_type": "stream",
     "text": [
      "1/1 [==============================] - 0s 24ms/step\n"
     ]
    },
    {
     "data": {
      "text/plain": [
       "array([[0., 1.],\n",
       "       [0., 1.],\n",
       "       [0., 1.],\n",
       "       [0., 1.],\n",
       "       [0., 1.],\n",
       "       [0., 1.]], dtype=float32)"
      ]
     },
     "execution_count": 51,
     "metadata": {},
     "output_type": "execute_result"
    }
   ],
   "source": [
    "model.predict([45,45,23,75,95,65])"
   ]
  },
  {
   "cell_type": "code",
   "execution_count": null,
   "id": "adcecb87-a9cc-45fd-bce2-ae9186eeaba7",
   "metadata": {},
   "outputs": [],
   "source": []
  }
 ],
 "metadata": {
  "kernelspec": {
   "display_name": "Python 3 (ipykernel)",
   "language": "python",
   "name": "python3"
  },
  "language_info": {
   "codemirror_mode": {
    "name": "ipython",
    "version": 3
   },
   "file_extension": ".py",
   "mimetype": "text/x-python",
   "name": "python",
   "nbconvert_exporter": "python",
   "pygments_lexer": "ipython3",
   "version": "3.11.5"
  }
 },
 "nbformat": 4,
 "nbformat_minor": 5
}
