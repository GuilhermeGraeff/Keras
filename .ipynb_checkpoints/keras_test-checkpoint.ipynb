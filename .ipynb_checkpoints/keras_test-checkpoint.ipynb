{
 "cells": [
  {
   "cell_type": "code",
   "execution_count": 91,
   "id": "f1229953-2cba-4aad-b058-b3b68557a74b",
   "metadata": {
    "tags": []
   },
   "outputs": [],
   "source": [
    "import tensorflow as tf\n",
    "import keras"
   ]
  },
  {
   "cell_type": "code",
   "execution_count": 92,
   "id": "fda6c091-b7c7-4baf-97ba-45ffaacadc05",
   "metadata": {
    "tags": []
   },
   "outputs": [
    {
     "name": "stdout",
     "output_type": "stream",
     "text": [
      "tf.Tensor(\n",
      "[[5 2]\n",
      " [1 3]], shape=(2, 2), dtype=int32)\n"
     ]
    }
   ],
   "source": [
    "# Constant Trnsors\n",
    "x = tf.constant([[5, 2], [1, 3]])\n",
    "print(x)"
   ]
  },
  {
   "cell_type": "code",
   "execution_count": 93,
   "id": "3aff3936-fb13-4d35-8b47-7f112adad3b9",
   "metadata": {
    "tags": []
   },
   "outputs": [
    {
     "data": {
      "text/plain": [
       "array([[5, 2],\n",
       "       [1, 3]], dtype=int32)"
      ]
     },
     "execution_count": 93,
     "metadata": {},
     "output_type": "execute_result"
    }
   ],
   "source": [
    "x.numpy()"
   ]
  },
  {
   "cell_type": "code",
   "execution_count": 94,
   "id": "6da43259-d46c-4eec-a843-98d2ec0d7255",
   "metadata": {
    "tags": []
   },
   "outputs": [
    {
     "name": "stdout",
     "output_type": "stream",
     "text": [
      "Aqui o dtype <dtype: 'int32'>\n",
      "Aqui o shape (2, 2)\n"
     ]
    }
   ],
   "source": [
    "print(\"Aqui o dtype\", x.dtype)\n",
    "print(\"Aqui o shape\", x.shape)"
   ]
  },
  {
   "cell_type": "code",
   "execution_count": 95,
   "id": "0f40f13d-8329-417b-bbb9-37cc55817014",
   "metadata": {
    "tags": []
   },
   "outputs": [
    {
     "name": "stdout",
     "output_type": "stream",
     "text": [
      "tf.Tensor(\n",
      "[[1. 1. 1. 1.]\n",
      " [1. 1. 1. 1.]\n",
      " [1. 1. 1. 1.]\n",
      " [1. 1. 1. 1.]], shape=(4, 4), dtype=float32)\n",
      "tf.Tensor(\n",
      "[[0. 0. 0. 0.]\n",
      " [0. 0. 0. 0.]\n",
      " [0. 0. 0. 0.]\n",
      " [0. 0. 0. 0.]], shape=(4, 4), dtype=float32)\n"
     ]
    }
   ],
   "source": [
    "ones = tf.ones(shape=(4,4))\n",
    "zeros = tf.zeros(shape=(4,4))\n",
    "print(ones)\n",
    "print(zeros)"
   ]
  },
  {
   "cell_type": "code",
   "execution_count": 96,
   "id": "47f25113-6b75-4283-a0db-1c93de2be0fb",
   "metadata": {
    "tags": []
   },
   "outputs": [
    {
     "name": "stdout",
     "output_type": "stream",
     "text": [
      "tf.Tensor(\n",
      "[[ 0.40754527 -0.98947674  0.02574982  0.7577073 ]\n",
      " [ 0.19375835  0.32681334 -0.41315946 -1.0953197 ]\n",
      " [-0.12834647  1.1091732  -0.6187683  -0.18008278]\n",
      " [ 0.00244933  0.6929563   1.2824197  -0.13641357]], shape=(4, 4), dtype=float32)\n",
      "tf.Tensor(\n",
      "[[2 7 2 1]\n",
      " [8 7 6 2]\n",
      " [9 9 7 1]\n",
      " [5 5 1 9]], shape=(4, 4), dtype=int32)\n"
     ]
    }
   ],
   "source": [
    "random_floats = tf.random.normal(shape=(4,4), mean=0.0, stddev=1.0)\n",
    "random_ints = tf.random.uniform(shape=(4,4), minval=0, maxval=10, dtype=\"int32\")\n",
    "\n",
    "print(random_floats)\n",
    "print(random_ints)"
   ]
  },
  {
   "cell_type": "code",
   "execution_count": 97,
   "id": "cad2e9cb-3ca9-414b-ad07-cd8a4eb50d05",
   "metadata": {
    "tags": []
   },
   "outputs": [
    {
     "name": "stdout",
     "output_type": "stream",
     "text": [
      "tf.Tensor(\n",
      "[[ 1.1551441   0.60057086 -0.10289282 -0.4653137 ]\n",
      " [ 0.8708803   1.2960113  -0.10215749  0.3286005 ]\n",
      " [ 0.10687343 -0.6880179  -0.91159374 -1.654839  ]\n",
      " [-0.19849642 -0.30487847  0.20681468 -0.36508146]], shape=(4, 4), dtype=float32)\n",
      "<tf.Variable 'Variable:0' shape=(4, 4) dtype=float32, numpy=\n",
      "array([[ 1.1551441 ,  0.60057086, -0.10289282, -0.4653137 ],\n",
      "       [ 0.8708803 ,  1.2960113 , -0.10215749,  0.3286005 ],\n",
      "       [ 0.10687343, -0.6880179 , -0.91159374, -1.654839  ],\n",
      "       [-0.19849642, -0.30487847,  0.20681468, -0.36508146]],\n",
      "      dtype=float32)>\n"
     ]
    }
   ],
   "source": [
    "# Variable tensors\n",
    "initial_value = tf.random.normal(shape=(4,4))\n",
    "a = tf.Variable(initial_value)\n",
    "print(initial_value)\n",
    "print(a)"
   ]
  },
  {
   "cell_type": "code",
   "execution_count": 98,
   "id": "51c0f4cf-60e3-4bc1-96f5-51440fa92229",
   "metadata": {
    "tags": []
   },
   "outputs": [
    {
     "name": "stdout",
     "output_type": "stream",
     "text": [
      "Before assign new values to 'a'\n",
      "<tf.Variable 'Variable:0' shape=(4, 4) dtype=float32, numpy=\n",
      "array([[ 1.1551441 ,  0.60057086, -0.10289282, -0.4653137 ],\n",
      "       [ 0.8708803 ,  1.2960113 , -0.10215749,  0.3286005 ],\n",
      "       [ 0.10687343, -0.6880179 , -0.91159374, -1.654839  ],\n",
      "       [-0.19849642, -0.30487847,  0.20681468, -0.36508146]],\n",
      "      dtype=float32)>\n",
      "\n",
      "\n",
      "\n",
      "After assign new values to 'a'\n",
      "<tf.Variable 'Variable:0' shape=(4, 4) dtype=float32, numpy=\n",
      "array([[ 1.68362212e+00, -3.92901152e-01,  9.91967797e-01,\n",
      "        -4.91323382e-01],\n",
      "       [-1.09751113e-01,  1.11285925e-01,  1.55584253e-02,\n",
      "         1.09220529e+00],\n",
      "       [-1.11858058e+00, -8.80956352e-01,  4.98265140e-02,\n",
      "         2.27205515e+00],\n",
      "       [ 4.69782382e-01,  9.08876896e-01,  2.15615658e-03,\n",
      "         1.57217789e+00]], dtype=float32)>\n",
      "+\n",
      "tf.Tensor(\n",
      "[[ 1.6180454  -1.7764399   0.7954538   1.8387125 ]\n",
      " [ 2.0276284  -0.32959095  0.9455347   0.09089289]\n",
      " [-0.32055    -0.04092838  1.4108615   1.2921307 ]\n",
      " [-0.9135122  -1.5844263   0.29941848 -0.37129214]], shape=(4, 4), dtype=float32)\n",
      "=\n",
      "<tf.Variable 'Variable:0' shape=(4, 4) dtype=float32, numpy=\n",
      "array([[ 3.3016677 , -2.169341  ,  1.7874216 ,  1.3473891 ],\n",
      "       [ 1.9178773 , -0.21830502,  0.9610931 ,  1.1830982 ],\n",
      "       [-1.4391305 , -0.9218847 ,  1.460688  ,  3.5641859 ],\n",
      "       [-0.4437298 , -0.6755494 ,  0.30157465,  1.2008858 ]],\n",
      "      dtype=float32)>\n"
     ]
    }
   ],
   "source": [
    "# Modifying the values of a variable tensor\n",
    "new_value = tf.random.normal(shape=(4,4))\n",
    "print(\"Before assign new values to 'a'\")\n",
    "print(a) \n",
    "a.assign(new_value)\n",
    "print(\"\\n\\n\\nAfter assign new values to 'a'\")\n",
    "print(a)\n",
    "for i in range(4):\n",
    "    for j in range(4):\n",
    "        assert a[i,j] == new_value[i,j]\n",
    "        \n",
    "added_value = tf.random.normal(shape=(4,4))\n",
    "a.assign_add(added_value)\n",
    "for i in range(4):\n",
    "    for j in range(4):\n",
    "        assert a[i,j] == new_value[i,j] + added_value[i,j]\n",
    "print(\"+\")\n",
    "print(added_value)\n",
    "print(\"=\")\n",
    "print(a)"
   ]
  },
  {
   "cell_type": "code",
   "execution_count": 99,
   "id": "2be0d0cd-661c-48ed-bb74-22331635a238",
   "metadata": {
    "tags": []
   },
   "outputs": [],
   "source": [
    "a = tf.random.uniform(shape=(4, 4), minval=1, maxval=3)\n",
    "b = tf.random.uniform(shape=(4, 4), minval=1, maxval=3)\n",
    "\n",
    "c = a + b\n",
    "d = tf.square(c)\n",
    "e = tf.exp(d)"
   ]
  },
  {
   "cell_type": "code",
   "execution_count": 100,
   "id": "f7190769-dac6-4c4f-8f5b-d6fdf8b76fb3",
   "metadata": {
    "tags": []
   },
   "outputs": [
    {
     "name": "stdout",
     "output_type": "stream",
     "text": [
      "tf.Tensor(\n",
      "[[1.2064722 2.0850587 1.0006375 2.6956894]\n",
      " [1.8493769 2.0728178 1.0529134 2.1878812]\n",
      " [2.4826326 1.6422379 1.5868051 1.6302793]\n",
      " [2.0928214 2.4972944 1.6231384 1.4282496]], shape=(4, 4), dtype=float32)\n",
      "\n",
      "\n",
      "\n",
      "tf.Tensor(\n",
      "[[2.8696568 2.3708205 2.2333405 1.4252715]\n",
      " [2.242848  1.6381156 2.1286764 1.0038776]\n",
      " [1.5761395 1.4440484 2.0620327 1.4767125]\n",
      " [1.3240621 2.8755388 2.8651388 2.1271987]], shape=(4, 4), dtype=float32)\n",
      "\n",
      "\n",
      "\n",
      "tf.Tensor(\n",
      "[[4.076129  4.455879  3.233978  4.120961 ]\n",
      " [4.092225  3.7109334 3.1815898 3.1917589]\n",
      " [4.058772  3.0862863 3.6488378 3.1069918]\n",
      " [3.4168835 5.3728333 4.4882774 3.5554483]], shape=(4, 4), dtype=float32)\n",
      "\n",
      "\n",
      "\n",
      "tf.Tensor(\n",
      "[[16.614828 19.85486  10.458614 16.98232 ]\n",
      " [16.746305 13.771027 10.122514 10.187325]\n",
      " [16.47363   9.525163 13.314017  9.653398]\n",
      " [11.675093 28.867336 20.144634 12.641212]], shape=(4, 4), dtype=float32)\n",
      "\n",
      "\n",
      "\n",
      "tf.Tensor(\n",
      "[[1.6433428e+07 4.1962010e+08 3.4843238e+04 2.3731666e+07]\n",
      " [1.8742522e+07 9.5649100e+05 2.4897277e+04 2.6564326e+04]\n",
      " [1.4269443e+07 1.3700158e+04 6.0562562e+05 1.5574613e+04]\n",
      " [1.1760569e+05 3.4429034e+12 5.6066502e+08 3.0903581e+05]], shape=(4, 4), dtype=float32)\n",
      "\n",
      "\n",
      "\n"
     ]
    }
   ],
   "source": [
    "print(a)\n",
    "print(\"\\n\\n\")\n",
    "print(b)\n",
    "print(\"\\n\\n\")\n",
    "print(c)\n",
    "print(\"\\n\\n\")\n",
    "print(d)\n",
    "print(\"\\n\\n\")\n",
    "print(e)\n",
    "print(\"\\n\\n\")"
   ]
  },
  {
   "cell_type": "code",
   "execution_count": 101,
   "id": "058fedf8-65c7-4134-bc01-01cf27172294",
   "metadata": {
    "tags": []
   },
   "outputs": [
    {
     "name": "stdout",
     "output_type": "stream",
     "text": [
      "tf.Tensor(\n",
      "[[-0.9979259  -0.5966878 ]\n",
      " [-0.99751556 -0.5087756 ]], shape=(2, 2), dtype=float32)\n"
     ]
    }
   ],
   "source": [
    "# Gradients\n",
    "\n",
    "a = tf.random.normal(shape=(2, 2))\n",
    "print(a)\n",
    "b = tf.random.normal(shape=(2, 2))\n",
    "print(b)\n",
    "with tf.GradientTape() as tape:\n",
    "    tape.watch(a)  # Start recording the history of operations applied to `a`\n",
    "    c = tf.sqrt(tf.square(a) + tf.square(b))  # Do some math using `a`\n",
    "    # What's the gradient of `c` with respect to `a`?\n",
    "    dc_da = tape.gradient(c, a)\n",
    "    print(dc_da)"
   ]
  },
  {
   "cell_type": "code",
   "execution_count": null,
   "id": "3797d9b7-c66e-4b75-80ba-77d6d39b84e7",
   "metadata": {},
   "outputs": [],
   "source": []
  },
  {
   "cell_type": "code",
   "execution_count": null,
   "id": "a8adef25-5045-4c8f-8f87-01114d3386b1",
   "metadata": {},
   "outputs": [],
   "source": []
  },
  {
   "cell_type": "code",
   "execution_count": null,
   "id": "ea790960-7207-4e92-9f79-963ec447d4e1",
   "metadata": {},
   "outputs": [],
   "source": []
  },
  {
   "cell_type": "code",
   "execution_count": null,
   "id": "a5337b41-b7be-4195-ac04-685cbb678e63",
   "metadata": {},
   "outputs": [],
   "source": []
  },
  {
   "cell_type": "code",
   "execution_count": null,
   "id": "f20075dc-ccd1-45ec-91eb-d53673c48c44",
   "metadata": {},
   "outputs": [],
   "source": []
  }
 ],
 "metadata": {
  "kernelspec": {
   "display_name": "Python 3 (ipykernel)",
   "language": "python",
   "name": "python3"
  },
  "language_info": {
   "codemirror_mode": {
    "name": "ipython",
    "version": 3
   },
   "file_extension": ".py",
   "mimetype": "text/x-python",
   "name": "python",
   "nbconvert_exporter": "python",
   "pygments_lexer": "ipython3",
   "version": "3.11.5"
  }
 },
 "nbformat": 4,
 "nbformat_minor": 5
}
